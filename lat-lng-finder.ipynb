{
 "cells": [
  {
   "cell_type": "code",
   "execution_count": 1,
   "metadata": {},
   "outputs": [],
   "source": [
    "#import dependencies\n",
    "import requests\n",
    "import urllib.request\n",
    "import time\n",
    "from bs4 import BeautifulSoup\n",
    "import re\n",
    "import pandas as pd\n",
    "from splinter import Browser "
   ]
  },
  {
   "cell_type": "code",
   "execution_count": 2,
   "metadata": {},
   "outputs": [],
   "source": [
    "# Set the executable path and initialize the chrome browser in splinter\n",
    "executable_path = {'executable_path': '/usr/local/bin/chromedriver'}\n",
    "browser = Browser('chrome', **executable_path)"
   ]
  },
  {
   "cell_type": "code",
   "execution_count": 3,
   "metadata": {},
   "outputs": [],
   "source": [
    "#set the url and visit it by sprinter\n",
    "url = 'https://developer.mapquest.com/documentation/tools/latitude-longitude-finder/'\n",
    "browser.visit(url)"
   ]
  },
  {
   "cell_type": "code",
   "execution_count": 4,
   "metadata": {
    "scrolled": true
   },
   "outputs": [
    {
     "data": {
      "text/html": [
       "<div>\n",
       "<style scoped>\n",
       "    .dataframe tbody tr th:only-of-type {\n",
       "        vertical-align: middle;\n",
       "    }\n",
       "\n",
       "    .dataframe tbody tr th {\n",
       "        vertical-align: top;\n",
       "    }\n",
       "\n",
       "    .dataframe thead th {\n",
       "        text-align: right;\n",
       "    }\n",
       "</style>\n",
       "<table border=\"1\" class=\"dataframe\">\n",
       "  <thead>\n",
       "    <tr style=\"text-align: right;\">\n",
       "      <th></th>\n",
       "      <th>Name</th>\n",
       "      <th>Address</th>\n",
       "      <th>Link</th>\n",
       "    </tr>\n",
       "  </thead>\n",
       "  <tbody>\n",
       "    <tr>\n",
       "      <th>0</th>\n",
       "      <td>Berl's Brooklyn Poetry Shop</td>\n",
       "      <td>141 Front St., Brooklyn, NY 11201</td>\n",
       "      <td>http://www.berlspoetry.com/</td>\n",
       "    </tr>\n",
       "    <tr>\n",
       "      <th>1</th>\n",
       "      <td>Bookmark Shoppe</td>\n",
       "      <td>8415 3rd Ave, Brooklyn, NY 11209</td>\n",
       "      <td>https://www.bookmarkshoppe.com/</td>\n",
       "    </tr>\n",
       "    <tr>\n",
       "      <th>2</th>\n",
       "      <td>Books Are Magic</td>\n",
       "      <td>225 Smith St., Brooklyn, NY 11231</td>\n",
       "      <td>https://www.booksaremagic.net/</td>\n",
       "    </tr>\n",
       "    <tr>\n",
       "      <th>3</th>\n",
       "      <td>Cafe Con Libros</td>\n",
       "      <td>724 Prospect Pl. Brooklyn, NY 11216</td>\n",
       "      <td>https://www.cafeconlibrosbk.com/</td>\n",
       "    </tr>\n",
       "    <tr>\n",
       "      <th>4</th>\n",
       "      <td>Catland Books</td>\n",
       "      <td>987 Flushing Ave, Brooklyn, NY 11206</td>\n",
       "      <td>https://www.catlandbooks.com/</td>\n",
       "    </tr>\n",
       "    <tr>\n",
       "      <th>...</th>\n",
       "      <td>...</td>\n",
       "      <td>...</td>\n",
       "      <td>...</td>\n",
       "    </tr>\n",
       "    <tr>\n",
       "      <th>63</th>\n",
       "      <td>Kew &amp; Willow Books</td>\n",
       "      <td>81-63 Lefferts Blvd, Kew Gardens\\tNY, 11415</td>\n",
       "      <td>https://www.kewandwillow.com/</td>\n",
       "    </tr>\n",
       "    <tr>\n",
       "      <th>64</th>\n",
       "      <td>Topos Bookstore Cafe</td>\n",
       "      <td>788 Woodward Ave., Ridgewood, NY 11385</td>\n",
       "      <td>https://www.toposbookstore.com/</td>\n",
       "    </tr>\n",
       "    <tr>\n",
       "      <th>65</th>\n",
       "      <td>Turn the Page Again!</td>\n",
       "      <td>39-15 Bell Blvd, Bayside, NY 11361</td>\n",
       "      <td>http://www.turnthepageagain.com/</td>\n",
       "    </tr>\n",
       "    <tr>\n",
       "      <th>66</th>\n",
       "      <td>Everything Goes Book Cafe</td>\n",
       "      <td>208 Bay St., Staten Island, NY 10301</td>\n",
       "      <td>http://www.etgstores.com/bookcafe/</td>\n",
       "    </tr>\n",
       "    <tr>\n",
       "      <th>67</th>\n",
       "      <td>The Lit Bar</td>\n",
       "      <td>131 Alexander Ave., The Bronx, New York 10454</td>\n",
       "      <td>http://www.thelitbar.com/</td>\n",
       "    </tr>\n",
       "  </tbody>\n",
       "</table>\n",
       "<p>68 rows × 3 columns</p>\n",
       "</div>"
      ],
      "text/plain": [
       "                           Name  \\\n",
       "0   Berl's Brooklyn Poetry Shop   \n",
       "1               Bookmark Shoppe   \n",
       "2               Books Are Magic   \n",
       "3               Cafe Con Libros   \n",
       "4                 Catland Books   \n",
       "..                          ...   \n",
       "63           Kew & Willow Books   \n",
       "64         Topos Bookstore Cafe   \n",
       "65         Turn the Page Again!   \n",
       "66    Everything Goes Book Cafe   \n",
       "67                  The Lit Bar   \n",
       "\n",
       "                                          Address  \\\n",
       "0               141 Front St., Brooklyn, NY 11201   \n",
       "1                8415 3rd Ave, Brooklyn, NY 11209   \n",
       "2               225 Smith St., Brooklyn, NY 11231   \n",
       "3             724 Prospect Pl. Brooklyn, NY 11216   \n",
       "4            987 Flushing Ave, Brooklyn, NY 11206   \n",
       "..                                            ...   \n",
       "63    81-63 Lefferts Blvd, Kew Gardens\\tNY, 11415   \n",
       "64         788 Woodward Ave., Ridgewood, NY 11385   \n",
       "65             39-15 Bell Blvd, Bayside, NY 11361   \n",
       "66           208 Bay St., Staten Island, NY 10301   \n",
       "67  131 Alexander Ave., The Bronx, New York 10454   \n",
       "\n",
       "                                  Link  \n",
       "0          http://www.berlspoetry.com/  \n",
       "1      https://www.bookmarkshoppe.com/  \n",
       "2       https://www.booksaremagic.net/  \n",
       "3     https://www.cafeconlibrosbk.com/  \n",
       "4        https://www.catlandbooks.com/  \n",
       "..                                 ...  \n",
       "63       https://www.kewandwillow.com/  \n",
       "64     https://www.toposbookstore.com/  \n",
       "65    http://www.turnthepageagain.com/  \n",
       "66  http://www.etgstores.com/bookcafe/  \n",
       "67           http://www.thelitbar.com/  \n",
       "\n",
       "[68 rows x 3 columns]"
      ]
     },
     "execution_count": 4,
     "metadata": {},
     "output_type": "execute_result"
    }
   ],
   "source": [
    "# read csv file as dataframe\n",
    "nyc_bookstores_df = pd.read_csv('nyc_bookstores.csv')\n",
    "nyc_bookstores_df.head()"
   ]
  },
  {
   "cell_type": "code",
   "execution_count": 5,
   "metadata": {},
   "outputs": [],
   "source": [
    "# Temp manual fixes to address column\n",
    "nyc_bookstores_df['Address'][29] = '151 East Broadway, New York, NY,10002'\n",
    "nyc_bookstores_df['Address'][59] = '238 W 10th St., New York, NY 10014'"
   ]
  },
  {
   "cell_type": "code",
   "execution_count": 21,
   "metadata": {
    "scrolled": true
   },
   "outputs": [],
   "source": [
    "# Get lat-lng results using address column\n",
    "find_button = browser.find_by_id('btnGC')\n",
    "clear_button = browser.find_by_id('clearDiv')\n",
    "results = []\n",
    "for address in nyc_bookstores_df['Address']:\n",
    "    browser.find_by_name('street').type(address)\n",
    "    find_button.click()\n",
    "    result = browser.find_by_id('resultDiv').text\n",
    "    results.append(result)\n",
    "    time.sleep(1.5)\n",
    "    clear_button.click()"
   ]
  },
  {
   "cell_type": "code",
   "execution_count": 23,
   "metadata": {},
   "outputs": [],
   "source": [
    "# Clean up results and get latitudes and longtitudes seperately\n",
    "latitudes= []\n",
    "longitudes = []\n",
    "for item in results:\n",
    "    result_list = item.split(',')\n",
    "    lat_result = result_list[0].split(':')\n",
    "    lng_result = result_list[1].split(':')\n",
    "    latitudes.append(float(lat_result[1]))\n",
    "    longitudes.append(float(lng_result[1]))\n",
    "    "
   ]
  },
  {
   "cell_type": "code",
   "execution_count": 27,
   "metadata": {
    "scrolled": true
   },
   "outputs": [],
   "source": [
    "# Add latitude and Lontitude to the df\n",
    "nyc_bookstores_df['Latitudes'] = latitudes\n",
    "nyc_bookstores_df['Longitudes'] = longitudes"
   ]
  },
  {
   "cell_type": "code",
   "execution_count": 28,
   "metadata": {},
   "outputs": [],
   "source": [
    "# Save dataframe as csv\n",
    "nyc_bookstores_df.to_csv('nyc_bookstores_location.csv',index=False)"
   ]
  },
  {
   "cell_type": "code",
   "execution_count": 29,
   "metadata": {},
   "outputs": [],
   "source": [
    "# Close browser\n",
    "browser.quit()"
   ]
  }
 ],
 "metadata": {
  "kernelspec": {
   "display_name": "PythonData",
   "language": "python",
   "name": "pythondata"
  },
  "language_info": {
   "codemirror_mode": {
    "name": "ipython",
    "version": 3
   },
   "file_extension": ".py",
   "mimetype": "text/x-python",
   "name": "python",
   "nbconvert_exporter": "python",
   "pygments_lexer": "ipython3",
   "version": "3.7.7"
  }
 },
 "nbformat": 4,
 "nbformat_minor": 4
}
